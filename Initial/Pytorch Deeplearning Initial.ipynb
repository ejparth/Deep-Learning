{
 "cells": [
  {
   "cell_type": "code",
   "execution_count": 5,
   "id": "21cdfec0-adaa-48a5-8ed6-29b4d66cb6aa",
   "metadata": {},
   "outputs": [],
   "source": [
    "import torch\n",
    "import numpy as np"
   ]
  },
  {
   "cell_type": "code",
   "execution_count": 61,
   "id": "b287f5d1-1f7d-4800-8398-99d9ea4d43d8",
   "metadata": {},
   "outputs": [],
   "source": [
    "inputs = np.array([[73, 67, 43],\n",
    "                   [91, 88, 64],\n",
    "                   [87, 134, 58],\n",
    "                   [102, 43, 37],\n",
    "                   [69, 96, 70]], dtype = 'float32')"
   ]
  },
  {
   "cell_type": "code",
   "execution_count": 62,
   "id": "8377ea1d-947c-4844-8128-e474defd1a25",
   "metadata": {},
   "outputs": [],
   "source": [
    "targets = np.array([[56, 70],\n",
    "                   [81, 101],\n",
    "                   [119, 133],\n",
    "                   [22 , 37],\n",
    "                   [103, 119]], dtype = 'float32')"
   ]
  },
  {
   "cell_type": "code",
   "execution_count": 63,
   "id": "fc237751-fe06-4771-a22f-ba2eb8320a78",
   "metadata": {},
   "outputs": [
    {
     "data": {
      "text/plain": [
       "(5, 2)"
      ]
     },
     "execution_count": 63,
     "metadata": {},
     "output_type": "execute_result"
    }
   ],
   "source": [
    "targets.shape"
   ]
  },
  {
   "cell_type": "code",
   "execution_count": 64,
   "id": "6d42a7c0-66c0-4cde-b7e4-a907cbb888f3",
   "metadata": {},
   "outputs": [
    {
     "name": "stdout",
     "output_type": "stream",
     "text": [
      "tensor([[ 73.,  67.,  43.],\n",
      "        [ 91.,  88.,  64.],\n",
      "        [ 87., 134.,  58.],\n",
      "        [102.,  43.,  37.],\n",
      "        [ 69.,  96.,  70.]])\n",
      "tensor([[ 56.,  70.],\n",
      "        [ 81., 101.],\n",
      "        [119., 133.],\n",
      "        [ 22.,  37.],\n",
      "        [103., 119.]])\n"
     ]
    }
   ],
   "source": [
    "inputs = torch.from_numpy(inputs)\n",
    "targets = torch.from_numpy(targets)\n",
    "print(inputs)\n",
    "print(targets)"
   ]
  },
  {
   "cell_type": "markdown",
   "id": "ac99fa29-f1fc-4df1-9dde-c2f4cc076cdb",
   "metadata": {},
   "source": [
    "#### Initializing/ Defining Weights & Biases"
   ]
  },
  {
   "cell_type": "code",
   "execution_count": 65,
   "id": "9d248d47-ffd4-4cbf-9a9f-a4b0042f6386",
   "metadata": {},
   "outputs": [
    {
     "name": "stdout",
     "output_type": "stream",
     "text": [
      "tensor([[-1.3682, -0.8082, -0.1005],\n",
      "        [ 1.7920,  1.0713, -0.5000]], requires_grad=True)\n",
      "tensor([-1.1030,  0.3866], requires_grad=True)\n"
     ]
    }
   ],
   "source": [
    "w = torch.randn(2,3, requires_grad = True)\n",
    "b = torch.randn(2,requires_grad = True)\n",
    "print(w)\n",
    "print(b)"
   ]
  },
  {
   "cell_type": "code",
   "execution_count": 66,
   "id": "3379c726-eb40-4508-9057-52ec7ae54b96",
   "metadata": {},
   "outputs": [
    {
     "data": {
      "text/plain": [
       "(torch.Size([2, 3]), torch.Size([2]))"
      ]
     },
     "execution_count": 66,
     "metadata": {},
     "output_type": "execute_result"
    }
   ],
   "source": [
    "w.shape, b.shape"
   ]
  },
  {
   "cell_type": "markdown",
   "id": "357d9f50-c76f-4e3b-b1ad-91320f2c46c2",
   "metadata": {},
   "source": [
    "#### Define the model"
   ]
  },
  {
   "cell_type": "code",
   "execution_count": 67,
   "id": "94cc8b49-a4fa-4335-9284-b1fb5d327134",
   "metadata": {},
   "outputs": [],
   "source": [
    "def model(x):\n",
    "    return x @ w.t() + b"
   ]
  },
  {
   "cell_type": "markdown",
   "id": "773ff4d0-5765-448a-9256-047642726ed1",
   "metadata": {},
   "source": [
    "#### generate predictions"
   ]
  },
  {
   "cell_type": "code",
   "execution_count": 68,
   "id": "5257b9cc-0a9c-45b2-bf96-11aa9ee76bcf",
   "metadata": {},
   "outputs": [],
   "source": [
    "preds = model(inputs)"
   ]
  },
  {
   "cell_type": "markdown",
   "id": "c51ce2dc-e273-47e5-8ab2-69faca6b7ff0",
   "metadata": {},
   "source": [
    "#### MSE loss"
   ]
  },
  {
   "cell_type": "code",
   "execution_count": 69,
   "id": "437cf4eb-8c93-4103-8a3e-32d5ffdd2c22",
   "metadata": {},
   "outputs": [],
   "source": [
    "def mse(t1,t2):\n",
    "    diff = t1-t2\n",
    "    return torch.sum(diff*diff)/diff.numel()"
   ]
  },
  {
   "cell_type": "markdown",
   "id": "cef7b986-8d72-4ab1-ab1e-b21d45913641",
   "metadata": {},
   "source": [
    "### Compute loss"
   ]
  },
  {
   "cell_type": "code",
   "execution_count": 70,
   "id": "f1c607a2-7e96-4d14-8c4d-3cc309ca5147",
   "metadata": {},
   "outputs": [
    {
     "data": {
      "text/plain": [
       "tensor(45506.1641, grad_fn=<DivBackward0>)"
      ]
     },
     "execution_count": 70,
     "metadata": {},
     "output_type": "execute_result"
    }
   ],
   "source": [
    "loss = mse(preds, targets)\n",
    "loss"
   ]
  },
  {
   "cell_type": "markdown",
   "id": "7841de74-f107-4ad8-aab0-d626674ec9d7",
   "metadata": {},
   "source": [
    "#### Compute gradients"
   ]
  },
  {
   "cell_type": "code",
   "execution_count": 73,
   "id": "a3f7a200-ca8a-4eec-b17a-3aa121ed3136",
   "metadata": {},
   "outputs": [],
   "source": [
    "loss.backward(retain_graph=True)"
   ]
  },
  {
   "cell_type": "code",
   "execution_count": 74,
   "id": "11d43453-db3a-49d5-b10c-aa05038448d3",
   "metadata": {},
   "outputs": [
    {
     "data": {
      "text/plain": [
       "(tensor([[-22474.3984, -24521.5840, -15040.2031],\n",
       "         [ 10846.1826,  10276.7070,   6460.2314]]),\n",
       " tensor([-267.4277,  124.1343]))"
      ]
     },
     "execution_count": 74,
     "metadata": {},
     "output_type": "execute_result"
    }
   ],
   "source": [
    "w.grad, b.grad ##Check the gradients"
   ]
  },
  {
   "cell_type": "markdown",
   "id": "d4d7541e-ac91-472a-8364-ef322b3217c3",
   "metadata": {},
   "source": [
    "##### Pytorch accumulates gradients so we need to set them to zero:"
   ]
  },
  {
   "cell_type": "code",
   "execution_count": 78,
   "id": "4a3ac27a-123b-473c-839d-e54aa89ebdf0",
   "metadata": {},
   "outputs": [
    {
     "data": {
      "text/plain": [
       "<function Tensor.zero_>"
      ]
     },
     "execution_count": 78,
     "metadata": {},
     "output_type": "execute_result"
    }
   ],
   "source": [
    "w.grad.zero_\n",
    "b.grad.zero_"
   ]
  },
  {
   "cell_type": "markdown",
   "id": "c06db8a1-7d1a-496a-8d7c-948b3b04dd53",
   "metadata": {},
   "source": [
    "### Gradient Descent"
   ]
  },
  {
   "cell_type": "markdown",
   "id": "00e87078-e5a5-432c-a6aa-3186af24e032",
   "metadata": {},
   "source": [
    "1)Generate Predictions\\\n",
    "2)Calculate loss\\\n",
    "3)Update weights/Bias\\\n",
    "4)ClearOut Gradients"
   ]
  },
  {
   "cell_type": "code",
   "execution_count": 79,
   "id": "d2222513-45a0-425f-ae42-082591e12ef9",
   "metadata": {},
   "outputs": [],
   "source": [
    "preds = model(inputs)"
   ]
  },
  {
   "cell_type": "code",
   "execution_count": 80,
   "id": "96078c87-b06d-4877-b569-655a4857d67d",
   "metadata": {},
   "outputs": [],
   "source": [
    "loss = mse(preds, targets)"
   ]
  },
  {
   "cell_type": "code",
   "execution_count": 84,
   "id": "46a2e094-7e6f-4322-9f9d-fdd4b39a3281",
   "metadata": {},
   "outputs": [],
   "source": [
    "with torch.no_grad():\n",
    "    w -= w.grad *1e-5\n",
    "    b -= b.grad *1e-5\n",
    "    w.grad.zero_()\n",
    "    b.grad.zero_()"
   ]
  },
  {
   "cell_type": "code",
   "execution_count": 86,
   "id": "0e996a24-15ae-4aa4-9a66-5c093a2e9220",
   "metadata": {},
   "outputs": [
    {
     "name": "stdout",
     "output_type": "stream",
     "text": [
      "Epoch :0, loss:30957.693359375\n"
     ]
    },
    {
     "ename": "AttributeError",
     "evalue": "'Tensor' object has no attribute 'backwards'",
     "output_type": "error",
     "traceback": [
      "\u001b[1;31m---------------------------------------------------------------------------\u001b[0m",
      "\u001b[1;31mAttributeError\u001b[0m                            Traceback (most recent call last)",
      "Cell \u001b[1;32mIn[86], line 5\u001b[0m\n\u001b[0;32m      3\u001b[0m loss \u001b[38;5;241m=\u001b[39m mse(preds, targets)\n\u001b[0;32m      4\u001b[0m \u001b[38;5;28mprint\u001b[39m(\u001b[38;5;124mf\u001b[39m\u001b[38;5;124m'\u001b[39m\u001b[38;5;124mEpoch :\u001b[39m\u001b[38;5;132;01m{\u001b[39;00mi\u001b[38;5;132;01m}\u001b[39;00m\u001b[38;5;124m, loss:\u001b[39m\u001b[38;5;132;01m{\u001b[39;00mloss\u001b[38;5;241m.\u001b[39mitem()\u001b[38;5;132;01m}\u001b[39;00m\u001b[38;5;124m'\u001b[39m)\n\u001b[1;32m----> 5\u001b[0m \u001b[43mloss\u001b[49m\u001b[38;5;241;43m.\u001b[39;49m\u001b[43mbackwards\u001b[49m()\n\u001b[0;32m      6\u001b[0m \u001b[38;5;28;01mwith\u001b[39;00m torch\u001b[38;5;241m.\u001b[39mno_grad():\n\u001b[0;32m      7\u001b[0m     w \u001b[38;5;241m-\u001b[39m\u001b[38;5;241m=\u001b[39m w\u001b[38;5;241m.\u001b[39mgrad \u001b[38;5;241m*\u001b[39m\u001b[38;5;241m1e-5\u001b[39m\n",
      "\u001b[1;31mAttributeError\u001b[0m: 'Tensor' object has no attribute 'backwards'"
     ]
    }
   ],
   "source": [
    "for i in range(20):\n",
    "    preds = model(inputs)\n",
    "    loss = mse(preds, targets)\n",
    "    print(f'Epoch :{i}, loss:{loss.item()}')\n",
    "    loss.backwards(reta)\n",
    "    with torch.no_grad():\n",
    "        w -= w.grad *1e-5\n",
    "        b -= b.grad *1e-5\n",
    "        w.grad.zero_()\n",
    "        b.grad.zero_()\n",
    "\n",
    "\n"
   ]
  },
  {
   "cell_type": "code",
   "execution_count": null,
   "id": "f1b37757-c445-4af7-a63b-227a7830d3e9",
   "metadata": {},
   "outputs": [],
   "source": []
  }
 ],
 "metadata": {
  "kernelspec": {
   "display_name": "Python 3 (ipykernel)",
   "language": "python",
   "name": "python3"
  },
  "language_info": {
   "codemirror_mode": {
    "name": "ipython",
    "version": 3
   },
   "file_extension": ".py",
   "mimetype": "text/x-python",
   "name": "python",
   "nbconvert_exporter": "python",
   "pygments_lexer": "ipython3",
   "version": "3.11.5"
  }
 },
 "nbformat": 4,
 "nbformat_minor": 5
}
